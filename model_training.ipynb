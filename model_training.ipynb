{
 "cells": [
  {
   "cell_type": "markdown",
   "metadata": {},
   "source": [
    "Duygu Analizi Model Egitimi\n"
   ]
  },
  {
   "cell_type": "code",
   "execution_count": 46,
   "metadata": {},
   "outputs": [],
   "source": [
    "import numpy as np\n",
    "import pandas as pd\n",
    "import json\n",
    "import tensorflow as tf\n",
    "\n",
    "from tensorflow.keras.models import Sequential\n",
    "from tensorflow.keras.layers import Dense, GRU, Embedding\n",
    "from tensorflow.keras.optimizers import Adam\n",
    "from tensorflow.keras.models import load_model\n",
    "\n",
    "dataframe=pd.read_csv('comment.csv',sep='\\t')\n",
    "\n",
    "target=dataframe['Puan'].values.tolist()\n",
    "data=dataframe['Yorum'].values.tolist()\n",
    "\n",
    "cutoff=int(len(data)*0.85)\n",
    "x_train,x_test=data[:cutoff],data[cutoff:]\n",
    "y_train,y_test=target[:cutoff],target[cutoff:]\n",
    "\n",
    "#tokenlestirme\n",
    "with open('tokenizer.json') as json_dosyasi:\n",
    "    json_tokenizer=json.load(json_dosyasi)\n",
    "\n",
    "def tokenlestir(yorumListesi):\n",
    "    y_yorumlar=[]\n",
    "    for yorum in yorumListesi:\n",
    "        y_yorum=[]\n",
    "        for kelime in yorum.split():\n",
    "            if(len(y_yorum)<50 and kelime in json_tokenizer):\n",
    "                y_yorum.append(json_tokenizer[kelime])\n",
    "        if(len(y_yorum)<50):\n",
    "            sifirlar=list(np.zeros(50-len(y_yorum),dtype=int))\n",
    "            y_yorum=sifirlar+y_yorum\n",
    "            \n",
    "        y_yorumlar.append(y_yorum)\n",
    "    return np.array(y_yorumlar,dtype=np.dtype(np.int32))\n",
    "\n",
    "\n",
    "\n"
   ]
  },
  {
   "cell_type": "code",
   "execution_count": 43,
   "metadata": {},
   "outputs": [
    {
     "name": "stderr",
     "output_type": "stream",
     "text": [
      "WARNING:absl:`lr` is deprecated in Keras optimizer, please use `learning_rate` or use the legacy optimizer, e.g.,tf.keras.optimizers.legacy.Adam.\n"
     ]
    },
    {
     "name": "stdout",
     "output_type": "stream",
     "text": [
      "Model: \"sequential_8\"\n",
      "_________________________________________________________________\n",
      " Layer (type)                Output Shape              Param #   \n",
      "=================================================================\n",
      " embedding_layer (Embedding  (None, 50, 50)            500050    \n",
      " )                                                               \n",
      "                                                                 \n",
      " gru_24 (GRU)                (None, 50, 16)            3264      \n",
      "                                                                 \n",
      " gru_25 (GRU)                (None, 50, 8)             624       \n",
      "                                                                 \n",
      " gru_26 (GRU)                (None, 4)                 168       \n",
      "                                                                 \n",
      " dense_8 (Dense)             (None, 1)                 5         \n",
      "                                                                 \n",
      "=================================================================\n",
      "Total params: 504111 (1.92 MB)\n",
      "Trainable params: 504111 (1.92 MB)\n",
      "Non-trainable params: 0 (0.00 Byte)\n",
      "_________________________________________________________________\n",
      "Epoch 1/15\n",
      "97/97 [==============================] - 16s 94ms/step - loss: 0.3380 - accuracy: 0.9217\n",
      "Epoch 2/15\n",
      "97/97 [==============================] - 9s 93ms/step - loss: 0.2162 - accuracy: 0.9346\n",
      "Epoch 3/15\n",
      "97/97 [==============================] - 9s 96ms/step - loss: 0.1489 - accuracy: 0.9519\n",
      "Epoch 4/15\n",
      "97/97 [==============================] - 9s 95ms/step - loss: 0.1067 - accuracy: 0.9683\n",
      "Epoch 5/15\n",
      "97/97 [==============================] - 9s 96ms/step - loss: 0.0815 - accuracy: 0.9789\n",
      "Epoch 6/15\n",
      "97/97 [==============================] - 9s 94ms/step - loss: 0.0680 - accuracy: 0.9827\n",
      "Epoch 7/15\n",
      "97/97 [==============================] - 9s 95ms/step - loss: 0.0580 - accuracy: 0.9859\n",
      "Epoch 8/15\n",
      "97/97 [==============================] - 9s 94ms/step - loss: 0.0513 - accuracy: 0.9882\n",
      "Epoch 9/15\n",
      "97/97 [==============================] - 9s 94ms/step - loss: 0.0463 - accuracy: 0.9895\n",
      "Epoch 10/15\n",
      "97/97 [==============================] - 9s 93ms/step - loss: 0.0430 - accuracy: 0.9907\n",
      "Epoch 11/15\n",
      "97/97 [==============================] - 9s 92ms/step - loss: 0.0399 - accuracy: 0.9914\n",
      "Epoch 12/15\n",
      "97/97 [==============================] - 9s 93ms/step - loss: 0.0376 - accuracy: 0.9923\n",
      "Epoch 13/15\n",
      "97/97 [==============================] - 9s 94ms/step - loss: 0.0359 - accuracy: 0.9927\n",
      "Epoch 14/15\n",
      "97/97 [==============================] - 9s 91ms/step - loss: 0.0348 - accuracy: 0.9929\n",
      "Epoch 15/15\n",
      "97/97 [==============================] - 9s 91ms/step - loss: 0.0341 - accuracy: 0.9930\n",
      "136/136 [==============================] - 3s 15ms/step - loss: 0.3079 - accuracy: 0.9248\n"
     ]
    },
    {
     "name": "stderr",
     "output_type": "stream",
     "text": [
      "/home/user/micromamba/lib/python3.9/site-packages/keras/src/engine/training.py:3103: UserWarning: You are saving your model as an HDF5 file via `model.save()`. This file format is considered legacy. We recommend using instead the native Keras format, e.g. `model.save('my_model.keras')`.\n",
      "  saving_api.save_model(\n"
     ]
    }
   ],
   "source": [
    "egitim_kume=tokenlestir(x_train)\n",
    "test_kume=tokenlestir(x_test)\n",
    "model = Sequential()\n",
    "model.add(Embedding(input_dim=10001, output_dim=50, input_length=50, name='embedding_layer'))\n",
    "\n",
    "model.add(GRU(units=16, return_sequences=True))\n",
    "model.add(GRU(units=8, return_sequences=True))\n",
    "model.add(GRU(units=4))\n",
    "model.add(Dense(1, activation='sigmoid'))\n",
    "\n",
    "optimizer = Adam(lr=1e-3)\n",
    "\n",
    "model.compile(loss='binary_crossentropy', optimizer=optimizer, metrics=['accuracy'])\n",
    "\n",
    "model.summary()\n",
    "\n",
    "model.fit(egitim_kume, np.array(y_train), epochs=15, batch_size=256)\n",
    "model.evaluate(test_kume, np.array(y_test))\n",
    "model.save('28Subat2024.h5')"
   ]
  },
  {
   "cell_type": "code",
   "execution_count": 44,
   "metadata": {},
   "outputs": [
    {
     "name": "stdout",
     "output_type": "stream",
     "text": [
      "1/1 [==============================] - 1s 1s/step\n"
     ]
    },
    {
     "data": {
      "text/plain": [
       "array([[0.99616694],\n",
       "       [0.9960494 ],\n",
       "       [0.01889264],\n",
       "       [0.9961989 ],\n",
       "       [0.33697012],\n",
       "       [0.5479653 ],\n",
       "       [0.97562337],\n",
       "       [0.874328  ],\n",
       "       [0.9961584 ],\n",
       "       [0.03713784]], dtype=float32)"
      ]
     },
     "execution_count": 44,
     "metadata": {},
     "output_type": "execute_result"
    }
   ],
   "source": [
    "text1 = \"bu ürün çok iyi herkese tavsiye ederim\"\n",
    "text2 = \"kargo çok hızlı aynı gün elime geçti\"\n",
    "text3 = \"büyük bir hayal kırıklığı yaşadım bu ürün bu markaya yakışmamış\"\n",
    "text4 = \"gitar kursuna yeni başladım. ne almalıyım diye bakınırken Hepsiburada da bu ürünü gördüm. fiyatı ve hediyeleri ile birlikte çok iyi fiyat. siyah olmasıda benim için ayrı güzel.\"\n",
    "text5 = \"tasarımı harika ancak kargo çok geç geldi ve ürün açılmıştı tavsiye etmem\"\n",
    "text6 = \"hiç resimde gösterildiği gibi değil\"\n",
    "text7 = \"kötü yorumlar gözümü korkutmuştu ancak hiçbir sorun yaşamadım teşekkürler\"\n",
    "text8 = \"hiç bu kadar kötü bir satıcıya denk gelmemiştim ürünü geri iade ediyorum\"\n",
    "text9 = \"tam bir fiyat performans ürünü\"\n",
    "text10 = \"beklediğim gibi çıkmadı\"\n",
    "yazilar = [text1, text2, text3, text4, text5, text6, text7, text8, text9, text10]\n",
    "deneme_kume = tokenlestir(yazilar)\n",
    "\n",
    "deneme_kume[9]\n",
    "sonuc=model.predict(deneme_kume)\n",
    "sonuc"
   ]
  }
 ],
 "metadata": {
  "kernelspec": {
   "display_name": "base",
   "language": "python",
   "name": "python3"
  },
  "language_info": {
   "codemirror_mode": {
    "name": "ipython",
    "version": 3
   },
   "file_extension": ".py",
   "mimetype": "text/x-python",
   "name": "python",
   "nbconvert_exporter": "python",
   "pygments_lexer": "ipython3",
   "version": "3.9.18"
  }
 },
 "nbformat": 4,
 "nbformat_minor": 2
}
